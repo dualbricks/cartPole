{
  "nbformat": 4,
  "nbformat_minor": 0,
  "metadata": {
    "colab": {
      "provenance": [],
      "collapsed_sections": [
        "UBiYOoesYMvr"
      ]
    },
    "kernelspec": {
      "name": "python3",
      "display_name": "Python 3"
    },
    "language_info": {
      "name": "python"
    }
  },
  "cells": [
    {
      "cell_type": "markdown",
      "source": [
        "# SC3000 Lab Assignment 1"
      ],
      "metadata": {
        "id": "ZauhjPSfX7pI"
      }
    },
    {
      "cell_type": "markdown",
      "source": [
        "**Lab Group: A37**\n",
        "\n",
        "**Done by: Ma Wenyue,<br>\n",
        "Ng Wan Jing** and <br> \n",
        "**Chew Zhi Yi Mark**\n",
        "\n",
        "Contribution:\n",
        "\n",
        "Wenyue - Coding and Training of Agent\n",
        "\n",
        "Wan Jing - Researching of RL Agent and Charting Out Results\n",
        "\n",
        "Mark - Documentation and Tuning Model Parameters"
      ],
      "metadata": {
        "id": "NNhVl4fbNBQx"
      }
    },
    {
      "cell_type": "markdown",
      "source": [
        "## Installing dependencies:"
      ],
      "metadata": {
        "id": "UBiYOoesYMvr"
      }
    },
    {
      "cell_type": "code",
      "execution_count": null,
      "metadata": {
        "colab": {
          "base_uri": "https://localhost:8080/"
        },
        "id": "PbgnVwZmX5uW",
        "outputId": "c6f830f2-bab1-4ce7-f072-4334966e3678"
      },
      "outputs": [
        {
          "output_type": "stream",
          "name": "stdout",
          "text": [
            "Looking in indexes: https://pypi.org/simple, https://us-python.pkg.dev/colab-wheels/public/simple/\n",
            "Requirement already satisfied: gym[classic_control] in /usr/local/lib/python3.8/dist-packages (0.25.2)\n",
            "Requirement already satisfied: numpy>=1.18.0 in /usr/local/lib/python3.8/dist-packages (from gym[classic_control]) (1.21.6)\n",
            "Requirement already satisfied: gym-notices>=0.0.4 in /usr/local/lib/python3.8/dist-packages (from gym[classic_control]) (0.0.8)\n",
            "Requirement already satisfied: importlib-metadata>=4.8.0 in /usr/local/lib/python3.8/dist-packages (from gym[classic_control]) (6.0.0)\n",
            "Requirement already satisfied: cloudpickle>=1.2.0 in /usr/local/lib/python3.8/dist-packages (from gym[classic_control]) (2.2.1)\n",
            "Requirement already satisfied: pygame==2.1.0 in /usr/local/lib/python3.8/dist-packages (from gym[classic_control]) (2.1.0)\n",
            "Requirement already satisfied: zipp>=0.5 in /usr/local/lib/python3.8/dist-packages (from importlib-metadata>=4.8.0->gym[classic_control]) (3.12.1)\n",
            "Looking in indexes: https://pypi.org/simple, https://us-python.pkg.dev/colab-wheels/public/simple/\n",
            "Requirement already satisfied: setuptools in /usr/local/lib/python3.8/dist-packages (67.2.0)\n"
          ]
        }
      ],
      "source": [
        "!apt-get install -y xvfb python-opengl > /dev/null 2>&1\n",
        "!pip install gym pyvirtualdisplay > /dev/null 2>&1\n",
        "!pip install gym pyvirtualdisplay > /dev/null 2>&1\n",
        "!apt-get install -y xvfb python-opengl ffmpeg > /dev/null 2>&1\n",
        "!pip install gym[classic_control]\n",
        "!apt-get update > /dev/null 2>&1\n",
        "!apt-get install cmake > /dev/null 2>&1\n",
        "!pip install --upgrade setuptools 2>&1\n",
        "!pip install ez_setup > /dev/null 2>&1"
      ]
    },
    {
      "cell_type": "markdown",
      "source": [
        "## Importing dependencies and defining helper functions"
      ],
      "metadata": {
        "id": "RwKbYeTgbaTA"
      }
    },
    {
      "cell_type": "code",
      "source": [
        "import gym\n",
        "from gym import logger as gymlogger\n",
        "from gym.wrappers import RecordVideo\n",
        "gymlogger.set_level(40) #error only\n",
        "import tensorflow as tf\n",
        "import numpy as np\n",
        "import random\n",
        "import matplotlib\n",
        "import matplotlib.pyplot as plt\n",
        "%matplotlib inline\n",
        "import math\n",
        "import glob\n",
        "import io\n",
        "import base64\n",
        "from IPython.display import HTML\n",
        "from IPython import display as ipythondisplay\n",
        "import pickle\n",
        "\n",
        "def show_video():\n",
        "  mp4list = glob.glob('video/*.mp4')\n",
        "  if len(mp4list) > 0:\n",
        "    mp4 = mp4list[0]\n",
        "    video = io.open(mp4, 'r+b').read()\n",
        "    encoded = base64.b64encode(video)\n",
        "    ipythondisplay.display(HTML(data='''<video alt=\"test\" autoplay \n",
        "                loop controls style=\"height: 400px;\">\n",
        "                <source src=\"data:video/mp4;base64,{0}\" type=\"video/mp4\" />\n",
        "             </video>'''.format(encoded.decode('ascii'))))\n",
        "  else: \n",
        "    print(\"Could not find video\")"
      ],
      "metadata": {
        "id": "j6KpgCLGYWmj"
      },
      "execution_count": null,
      "outputs": []
    },
    {
      "cell_type": "markdown",
      "source": [
        "## Loading the CartPole environment"
      ],
      "metadata": {
        "id": "ehbqP9CXbmo7"
      }
    },
    {
      "cell_type": "code",
      "source": [
        "env = gym.make(\"CartPole-v1\")"
      ],
      "metadata": {
        "id": "Go12dH4qbwBy"
      },
      "execution_count": null,
      "outputs": []
    },
    {
      "cell_type": "markdown",
      "source": [
        "We can check the action and observation space of this environment. Discrete(2) means that there are two valid discrete actions: 0 & 1."
      ],
      "metadata": {
        "id": "9XZ9g3xrcAXE"
      }
    },
    {
      "cell_type": "code",
      "source": [
        "print(env.action_space)"
      ],
      "metadata": {
        "colab": {
          "base_uri": "https://localhost:8080/"
        },
        "id": "ytxvVmLdcRyw",
        "outputId": "47d2f8a9-daef-4c14-bc33-a11f9ae53c1a"
      },
      "execution_count": null,
      "outputs": [
        {
          "output_type": "stream",
          "name": "stdout",
          "text": [
            "Discrete(2)\n"
          ]
        }
      ]
    },
    {
      "cell_type": "markdown",
      "source": [
        "The observation space is given below. The first two arrays define the min and max values of the 4 observed values, corresponding to cart position, velocity and pole angle, angular velocity."
      ],
      "metadata": {
        "id": "pVXGWi_Ncfg-"
      }
    },
    {
      "cell_type": "code",
      "source": [
        "print(env.observation_space)"
      ],
      "metadata": {
        "colab": {
          "base_uri": "https://localhost:8080/"
        },
        "id": "DyqHr9I5cdkX",
        "outputId": "3e07541f-53cb-42d1-8c0d-7b4bf591dfce"
      },
      "execution_count": null,
      "outputs": [
        {
          "output_type": "stream",
          "name": "stdout",
          "text": [
            "Box([-4.8000002e+00 -3.4028235e+38 -4.1887903e-01 -3.4028235e+38], [4.8000002e+00 3.4028235e+38 4.1887903e-01 3.4028235e+38], (4,), float32)\n"
          ]
        }
      ]
    },
    {
      "cell_type": "markdown",
      "source": [
        "We call each round of the pole-balancing game an \"episode\". At the start of each episode, make sure the environment is reset, which chooses a random initial state, e.g., pole slightly tilted to the right. This initialization can be achieved by the code below, which returns the observation of the initial state."
      ],
      "metadata": {
        "id": "HFOdaU2Gdyg0"
      }
    },
    {
      "cell_type": "code",
      "source": [
        "observation = env.reset()\n",
        "print(\"Initial observations:\", observation)"
      ],
      "metadata": {
        "colab": {
          "base_uri": "https://localhost:8080/"
        },
        "id": "VMr6qAqxdOsm",
        "outputId": "08d0b5f0-27b5-4504-e37d-6daee2325710"
      },
      "execution_count": null,
      "outputs": [
        {
          "output_type": "stream",
          "name": "stdout",
          "text": [
            "Initial observations: [ 0.04812601 -0.03076429  0.04100672  0.02435438]\n"
          ]
        }
      ]
    },
    {
      "cell_type": "markdown",
      "source": [
        "For the CartPole environment, there are two possible actions: 0 for pushing to the left and 1 for pushing to the right. For example, we can push the cart to the left using code below, which returns the new observation, the current reward, an indicator of whether the game ends, and some additional information (not used in this project). For CartPole, the game ends when the pole is significantly tilted or you manage to balance the pole for 500 steps. You get exactly 1 reward for each step before the game ends (i.e., max cumulative reward is 500)."
      ],
      "metadata": {
        "id": "qnG2QdfbeZrI"
      }
    },
    {
      "cell_type": "code",
      "source": [
        "observation, reward, done, info = env.step(0)\n",
        "print(\"New observations after choosing action 0:\", observation)\n",
        "print(\"Reward for this step:\", reward)\n",
        "print(\"Is this round done?\", done)"
      ],
      "metadata": {
        "colab": {
          "base_uri": "https://localhost:8080/"
        },
        "id": "MmfMDvyYdWGk",
        "outputId": "09deb38a-c1a9-4898-9c7f-5e36efb88a6b"
      },
      "execution_count": null,
      "outputs": [
        {
          "output_type": "stream",
          "name": "stdout",
          "text": [
            "New observations after choosing action 0: [ 0.04751073 -0.2264496   0.0414938   0.32968816]\n",
            "Reward for this step: 1.0\n",
            "Is this round done? False\n"
          ]
        }
      ]
    },
    {
      "cell_type": "markdown",
      "source": [
        "Now we can play a full round of the game using a naive strategy (always choosing action 0), and show the cumulative reward in the round. Note that reward returned by env.step(*) corresponds to the reward for current step. So we have to accumulate the reward for each step. Clearly, the naive strategy performs poorly by surviving only a dozen of steps."
      ],
      "metadata": {
        "id": "tj0zCh59fhBb"
      }
    },
    {
      "cell_type": "code",
      "source": [
        "observation = env.reset()\n",
        "cumulative_reward = 0\n",
        "done = False\n",
        "while not done:\n",
        "    observation, reward, done, info = env.step(0)\n",
        "    cumulative_reward += reward\n",
        "print(\"Cumulative reward for this round:\", cumulative_reward)"
      ],
      "metadata": {
        "colab": {
          "base_uri": "https://localhost:8080/"
        },
        "id": "AVucQVRwf6Jm",
        "outputId": "bfd06f26-a175-413a-dd87-b02a67415da8"
      },
      "execution_count": null,
      "outputs": [
        {
          "output_type": "stream",
          "name": "stdout",
          "text": [
            "Cumulative reward for this round: 10.0\n"
          ]
        }
      ]
    },
    {
      "cell_type": "markdown",
      "source": [
        "## Task 1: Development of an RL agent"
      ],
      "metadata": {
        "id": "2oIzK9SzhlWN"
      }
    },
    {
      "cell_type": "markdown",
      "source": [
        "We decided to create a RL agent using the Q-Learning Algorithm which uses a Q-table to find the best action to take at a given state."
      ],
      "metadata": {
        "id": "Cc6_e5c_huiq"
      }
    },
    {
      "cell_type": "code",
      "source": [
        "# Since the environment is affected by the cart position, cart velocity, pole angle and pole angular velcocity\n",
        "# the cart can move left and right\n",
        "# reward is basically the time step so no need to define\n",
        "\n",
        "# Here we define the Q-table which depends on the size of observation_space and action_space with values initiated with uniformly \n",
        "# random values between -0.05 and 0.05\n",
        "\n",
        "\n",
        "\n",
        "# custom size for Observation and interval size for each observation space\n",
        "observations = [30,30,50,50]\n",
        "interval_size = np.array([0.25, 0.25, 0.01, 0.1])\n",
        "\n",
        "# create dem new Qtable\n",
        "def Qtable(action_space, observation_space):\n",
        "    q_Table = np.random.uniform(low=0, high=1, size=(observations + [env.action_space.n])) \n",
        "    return q_Table\n",
        "\n",
        "# method to get the discrete state\n",
        "\n",
        "def discrete_state(state):\n",
        "    ds = state/interval_size + np.array([15,10,1,10])\n",
        "    return tuple(ds.astype(int))\n",
        "\n",
        "\n",
        "\n",
        "# main algo for Q-learning\n",
        "\n",
        "def QLearning(q_table, episodes, gamma, lr, epsilon):\n",
        "    \n",
        "  #initialise values for rewards and epsilon decays\n",
        "  decay = epsilon / ((episodes // 2) - 1)\n",
        "  rewards = 0\n",
        "  # update the Q-table for each episode\n",
        "    \n",
        "  for epi in range(1, episodes+1):\n",
        "      current_state = discrete_state(env.reset())\n",
        "      score = 0\n",
        "      gameOver = False\n",
        "      while not gameOver:\n",
        "          # exploration vs exploitation choice here\n",
        "          if np.random.uniform(0,1) < epsilon:\n",
        "              action  = env.action_space.sample()\n",
        "          else:\n",
        "              action = np.argmax(q_table[current_state])\n",
        "          # to get the next state after the current action     \n",
        "          observation, reward, gameOver, _ = env.step(action)\n",
        "          next_state = discrete_state(observation)\n",
        "          # add the reward for getting to this state\n",
        "          score+=reward\n",
        "\n",
        "          # update the Q-table if the the cart is still on top      \n",
        "          if not gameOver:\n",
        "            # update the table using the Q-Learning equation with reference from\n",
        "            # https://medium.com/analytics-vidhya/q-learning-is-the-most-basic-form-of-reinforcement-learning-which-doesnt-take-advantage-of-any-8944e02570c5#:~:text=A%20CartPole%2Dv0%20is%20a,if%20the%20pole%20remains%20upright.\n",
        "              ultimate_big_max_q = np.max(q_table[next_state])\n",
        "              current_q = q_table[current_state+(action,)]\n",
        "              new_q = (1-lr)*current_q + lr*(reward + gamma*ultimate_big_max_q)\n",
        "              q_table[current_state+(action,)] = new_q\n",
        "\n",
        "          # move to the next state\n",
        "          current_state = next_state\n",
        "      else:\n",
        "        #check the score while training \n",
        "        rewards += score\n",
        "        # update epsilon value after every run to move slowly towards exploitation\n",
        "      if (episodes//2) >= epi >= 1:\n",
        "        epsilon -= decay\n",
        "      if epi % 1000 == 0:\n",
        "        print(\"reward:\" , score)\n",
        "  return q_table              \n",
        "\n",
        "# Function used to load Qtable\n",
        "\n",
        "def load_Qtable(Q_NAME, q_table=None):\n",
        "  try:\n",
        "    with open(Q_NAME, 'rb') as f:\n",
        "      return pickle.load(f)\n",
        "  except:\n",
        "    Q_table = q_table\n",
        "    with open(Q_NAME, 'wb') as f:\n",
        "      pickle.dump(Q_table, f)\n",
        "      return Q_table\n",
        "\n",
        "\n",
        "# RL Agent using the Q-table to get the best next action        \n",
        "def Qlearning_agent(q_table, state):\n",
        "    return np.argmax(q_table[discrete_state(state)])"
      ],
      "metadata": {
        "id": "uW-jsmN0Dl1C"
      },
      "execution_count": null,
      "outputs": []
    },
    {
      "cell_type": "markdown",
      "source": [
        "We decided to try it out by training our agent with 2000 episodes."
      ],
      "metadata": {
        "id": "XT5faDeWMlUo"
      }
    },
    {
      "cell_type": "code",
      "source": [
        "observation = env.reset()\n",
        "#Creating the q_table\n",
        "q_table = Qtable(env.action_space, observations)\n",
        "#Training the Qlearning Agent\n",
        "q_table = QLearning(q_table, 2000, 0.95, 0.1, 0.95)\n",
        "action = Qlearning_agent(q_table, observation)\n",
        "print(\"Observation:\", observation)\n",
        "print(\"Chosen action:\", action)\n",
        "\n",
        "\n",
        "def play(q_table):\n",
        "  episode_results = []\n",
        "  for x in range(0,100):\n",
        "\n",
        "    observation = env.reset()\n",
        "    cumulative_reward = 0\n",
        "    done = False\n",
        "    while not done:\n",
        "        action = Qlearning_agent(q_table, observation)\n",
        "        observation, reward, done, info = env.step(action)\n",
        "        cumulative_reward += reward\n",
        "    episode_results.append(cumulative_reward)\n",
        "  return episode_results\n",
        "\n",
        "\n",
        "\n",
        "\n",
        "episode_results = np.array(play(q_table))\n",
        "plt.plot(episode_results)\n",
        "plt.title('Cumulative reward for each episode')\n",
        "plt.ylabel('Cumulative reward')\n",
        "plt.xlabel('episode')\n",
        "plt.show()"
      ],
      "metadata": {
        "colab": {
          "base_uri": "https://localhost:8080/",
          "height": 364
        },
        "id": "7R863Towwreu",
        "outputId": "ba6eae48-2f10-46f5-a472-4f09b1592e1f"
      },
      "execution_count": null,
      "outputs": [
        {
          "output_type": "stream",
          "name": "stdout",
          "text": [
            "reward: 21.0\n",
            "reward: 37.0\n",
            "Observation: [ 0.0006902  -0.04657241 -0.03285584  0.01900607]\n",
            "Chosen action: 0\n"
          ]
        },
        {
          "output_type": "display_data",
          "data": {
            "text/plain": [
              "<Figure size 432x288 with 1 Axes>"
            ],
            "image/png": "[encoded data removed]"
          },
          "metadata": {
            "needs_background": "light"
          }
        }
      ]
    },
    {
      "cell_type": "markdown",
      "source": [
        "However, when we did Task 2, we found out that the model was not good enough to achieve the required reward of 195 as shown below. Hence we decided to increase the episodes to 60000 to ensure that our model is sufficiently trained."
      ],
      "metadata": {
        "id": "N7AAA7nlxP7G"
      }
    },
    {
      "cell_type": "code",
      "source": [
        "print(\"Average cumulative reward:\", episode_results.mean())\n",
        "print(\"Is my agent good enough?\", episode_results.mean() > 195)"
      ],
      "metadata": {
        "colab": {
          "base_uri": "https://localhost:8080/"
        },
        "id": "qASTo3d1xI_S",
        "outputId": "21fa45ee-8403-4cbf-f5ce-3edf089dcf4e"
      },
      "execution_count": null,
      "outputs": [
        {
          "output_type": "stream",
          "name": "stdout",
          "text": [
            "Average cumulative reward: 31.84\n",
            "Is my agent good enough? False\n"
          ]
        }
      ]
    },
    {
      "cell_type": "markdown",
      "source": [
        "For Task 1, we can show the observation and chosen action below:"
      ],
      "metadata": {
        "id": "RAi7KKwNiegR"
      }
    },
    {
      "cell_type": "code",
      "source": [
        "observation = env.reset()\n",
        "#Creating the q_table\n",
        "q_table = Qtable(env.action_space, observations)\n",
        "#Training the Qlearning Agent\n",
        "\n",
        "# no need to retrain since we already saved the Qtable from previous run\n",
        "\n",
        "#q_table = QLearning(q_table, 60000, 0.95, 0.1, 0.3)\n",
        "\n",
        "\n",
        "tryhard = load_Qtable('tryhard')\n",
        "action = Qlearning_agent(tryhard, observation)\n",
        "print(\"Observation:\", observation)\n",
        "print(\"Chosen action:\", action)"
      ],
      "metadata": {
        "colab": {
          "base_uri": "https://localhost:8080/"
        },
        "id": "ae2ia-vUiNKJ",
        "outputId": "6e6d27e9-52d2-4ba5-926a-457216752058"
      },
      "execution_count": null,
      "outputs": [
        {
          "output_type": "stream",
          "name": "stdout",
          "text": [
            "Observation: [-0.03154674  0.0444556   0.04894982  0.04979045]\n",
            "Chosen action: 1\n"
          ]
        }
      ]
    },
    {
      "cell_type": "markdown",
      "source": [
        "## Task 2: Demonstrate the effectiveness of the RL agent"
      ],
      "metadata": {
        "id": "-XtIQ0Rti1gm"
      }
    },
    {
      "cell_type": "markdown",
      "source": [
        "For this task, we used the RL agent we developed in Task 1 which we've trained for 60000 episodes to play the game for 100 episodes, and recorded the cumulative reward for each round, and plotted the reward for each round. "
      ],
      "metadata": {
        "id": "djBEShf0kGI4"
      }
    },
    {
      "cell_type": "code",
      "source": [
        "# Play method to play through 100 episodes with the RL agent\n",
        "\n",
        "episode_results = np.array(play(tryhard))\n",
        "plt.plot(episode_results)\n",
        "plt.title('Cumulative reward for each episode')\n",
        "plt.ylabel('Cumulative reward')\n",
        "plt.xlabel('episode')\n",
        "plt.show()"
      ],
      "metadata": {
        "colab": {
          "base_uri": "https://localhost:8080/",
          "height": 295
        },
        "id": "RZrCKywQi6CE",
        "outputId": "a67ccca0-95c8-4d72-b38a-71b6b09d9fa4"
      },
      "execution_count": null,
      "outputs": [
        {
          "output_type": "display_data",
          "data": {
            "text/plain": [
              "<Figure size 432x288 with 1 Axes>"
            ],
            "image/png": "[encoded data removed]"
          },
          "metadata": {
            "needs_background": "light"
          }
        }
      ]
    },
    {
      "cell_type": "markdown",
      "source": [
        "Below is the average reward over the 100 episodes. As can be seen, our model is now sufficiently trained."
      ],
      "metadata": {
        "id": "XndSYH7wlvn7"
      }
    },
    {
      "cell_type": "code",
      "source": [
        "print(\"Average cumulative reward:\", episode_results.mean())\n",
        "print(\"Is my agent good enough?\", episode_results.mean() > 195)"
      ],
      "metadata": {
        "colab": {
          "base_uri": "https://localhost:8080/"
        },
        "id": "pOiOp9OYlo5Y",
        "outputId": "80efe2ab-7a33-4c3e-e88d-441f67ba3565"
      },
      "execution_count": null,
      "outputs": [
        {
          "output_type": "stream",
          "name": "stdout",
          "text": [
            "Average cumulative reward: 362.38\n",
            "Is my agent good enough? True\n"
          ]
        }
      ]
    },
    {
      "cell_type": "markdown",
      "source": [
        "## Task 3: Render one episode played by the agent"
      ],
      "metadata": {
        "id": "Yg0DCT38lFA6"
      }
    },
    {
      "cell_type": "markdown",
      "source": [
        "We plugged in our Q Learning agent and got the results as shown below."
      ],
      "metadata": {
        "id": "vx1awMr9lc_w"
      }
    },
    {
      "cell_type": "code",
      "source": [
        "env = RecordVideo(gym.make(\"CartPole-v1\"), \"./video\")\n",
        "observation = env.reset()\n",
        "while True:\n",
        "    env.render()\n",
        "    #your agent goes here\n",
        "    action = Qlearning_agent(tryhard, observation)\n",
        "    observation, reward, done, info = env.step(action) \n",
        "    if done: \n",
        "      break;    \n",
        "env.close()\n",
        "show_video()"
      ],
      "metadata": {
        "colab": {
          "base_uri": "https://localhost:8080/",
          "height": 421
        },
        "id": "LYyavfbIa47D",
        "outputId": "965a638c-8463-4faf-9bcf-4ca6493f6007"
      },
      "execution_count": null,
      "outputs": [
        {
          "output_type": "display_data",
          "data": {
            "text/plain": [
              "<IPython.core.display.HTML object>"
            ],
            "text/html": [
              "<video alt=\"test\" autoplay \n",
              "                loop controls style=\"height: 400px;\">\n",
              "                <source src=\"data:video/mp4;base64,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\" type=\"video/mp4\" />\n",
              "             </video>"
            ]
          },
          "metadata": {}
        }
      ]
    }
  ]
}